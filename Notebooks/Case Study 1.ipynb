{
 "cells": [
  {
   "cell_type": "code",
   "execution_count": 28,
   "id": "8202198f",
   "metadata": {},
   "outputs": [],
   "source": [
    "import numpy as np"
   ]
  },
  {
   "cell_type": "code",
   "execution_count": 2,
   "metadata": {},
   "outputs": [],
   "source": [
    "import pandas as pd\n",
    "import matplotlib.pyplot as plt\n",
    "import nltk"
   ]
  },
  {
   "attachments": {},
   "cell_type": "markdown",
   "id": "44a1ff1d",
   "metadata": {},
   "source": [
    "### Loading dataset"
   ]
  },
  {
   "cell_type": "code",
   "execution_count": 3,
   "id": "cc9ef070",
   "metadata": {},
   "outputs": [],
   "source": [
    "dataset=pd.read_csv(r\"C:\\Users\\atreya.bandyopad\\Documents\\NLP_L2\\Dataset\\sub case study1\\client C customer reviews.csv\")"
   ]
  },
  {
   "cell_type": "code",
   "execution_count": 4,
   "id": "f2829adb",
   "metadata": {},
   "outputs": [
    {
     "data": {
      "text/html": [
       "<div>\n",
       "<style scoped>\n",
       "    .dataframe tbody tr th:only-of-type {\n",
       "        vertical-align: middle;\n",
       "    }\n",
       "\n",
       "    .dataframe tbody tr th {\n",
       "        vertical-align: top;\n",
       "    }\n",
       "\n",
       "    .dataframe thead th {\n",
       "        text-align: right;\n",
       "    }\n",
       "</style>\n",
       "<table border=\"1\" class=\"dataframe\">\n",
       "  <thead>\n",
       "    <tr style=\"text-align: right;\">\n",
       "      <th></th>\n",
       "      <th>Unnamed: 0</th>\n",
       "      <th>index</th>\n",
       "      <th>unique_id</th>\n",
       "      <th>reviewText</th>\n",
       "      <th>aspect</th>\n",
       "      <th>sentiment</th>\n",
       "    </tr>\n",
       "  </thead>\n",
       "  <tbody>\n",
       "    <tr>\n",
       "      <th>0</th>\n",
       "      <td>0</td>\n",
       "      <td>0</td>\n",
       "      <td>Grocery &amp; Gourmet Food_Beverages_Bottled Bever...</td>\n",
       "      <td>ONE OF THE HARDEST THINGS ABOUT LOW CARBING IT...</td>\n",
       "      <td>['MIX']</td>\n",
       "      <td>['Neutral']</td>\n",
       "    </tr>\n",
       "    <tr>\n",
       "      <th>1</th>\n",
       "      <td>2</td>\n",
       "      <td>2</td>\n",
       "      <td>Grocery &amp; Gourmet Food_Beverages_Bottled Bever...</td>\n",
       "      <td>This is as good as it gets for a point margari...</td>\n",
       "      <td>['point margarita']</td>\n",
       "      <td>['Positive']</td>\n",
       "    </tr>\n",
       "    <tr>\n",
       "      <th>2</th>\n",
       "      <td>3</td>\n",
       "      <td>3</td>\n",
       "      <td>Grocery &amp; Gourmet Food_Beverages_Bottled Bever...</td>\n",
       "      <td>The strawberry margarita is all I have been ab...</td>\n",
       "      <td>['margarita' 'find']</td>\n",
       "      <td>['Positive' 'Positive']</td>\n",
       "    </tr>\n",
       "    <tr>\n",
       "      <th>3</th>\n",
       "      <td>5</td>\n",
       "      <td>5</td>\n",
       "      <td>Grocery &amp; Gourmet Food_Beverages_Bottled Bever...</td>\n",
       "      <td>or they tasted just awful . I tried the origin...</td>\n",
       "      <td>['original Margarita mix']</td>\n",
       "      <td>['Positive']</td>\n",
       "    </tr>\n",
       "    <tr>\n",
       "      <th>4</th>\n",
       "      <td>6</td>\n",
       "      <td>6</td>\n",
       "      <td>Grocery &amp; Gourmet Food_Beverages_Bottled Bever...</td>\n",
       "      <td>I then went a little nuts and ordered of just ...</td>\n",
       "      <td>['flavor']</td>\n",
       "      <td>['Positive']</td>\n",
       "    </tr>\n",
       "  </tbody>\n",
       "</table>\n",
       "</div>"
      ],
      "text/plain": [
       "   Unnamed: 0  index                                          unique_id  \\\n",
       "0           0      0  Grocery & Gourmet Food_Beverages_Bottled Bever...   \n",
       "1           2      2  Grocery & Gourmet Food_Beverages_Bottled Bever...   \n",
       "2           3      3  Grocery & Gourmet Food_Beverages_Bottled Bever...   \n",
       "3           5      5  Grocery & Gourmet Food_Beverages_Bottled Bever...   \n",
       "4           6      6  Grocery & Gourmet Food_Beverages_Bottled Bever...   \n",
       "\n",
       "                                          reviewText  \\\n",
       "0  ONE OF THE HARDEST THINGS ABOUT LOW CARBING IT...   \n",
       "1  This is as good as it gets for a point margari...   \n",
       "2  The strawberry margarita is all I have been ab...   \n",
       "3  or they tasted just awful . I tried the origin...   \n",
       "4  I then went a little nuts and ordered of just ...   \n",
       "\n",
       "                       aspect                sentiment  \n",
       "0                     ['MIX']              ['Neutral']  \n",
       "1         ['point margarita']             ['Positive']  \n",
       "2        ['margarita' 'find']  ['Positive' 'Positive']  \n",
       "3  ['original Margarita mix']             ['Positive']  \n",
       "4                  ['flavor']             ['Positive']  "
      ]
     },
     "execution_count": 4,
     "metadata": {},
     "output_type": "execute_result"
    }
   ],
   "source": [
    "dataset.head()"
   ]
  },
  {
   "cell_type": "code",
   "execution_count": 5,
   "id": "83b9ecf6",
   "metadata": {},
   "outputs": [
    {
     "data": {
      "text/plain": [
       "(147679, 6)"
      ]
     },
     "execution_count": 5,
     "metadata": {},
     "output_type": "execute_result"
    }
   ],
   "source": [
    "dataset.shape"
   ]
  },
  {
   "attachments": {},
   "cell_type": "markdown",
   "id": "7d410fc6",
   "metadata": {},
   "source": [
    "### EDA"
   ]
  },
  {
   "cell_type": "code",
   "execution_count": 6,
   "id": "8aae95b9",
   "metadata": {},
   "outputs": [],
   "source": [
    "def count_number_of_aspects(x):\n",
    "    ''' Counts the number of aspects in the aspect field of the dataset'''\n",
    "    x=x.replace(\"[\",\"\").replace(\"]\",\"\")\n",
    "    x=x.strip().split(\"' '\")\n",
    "    if len(x)>1:\n",
    "        return len(x)\n",
    "    else:\n",
    "        if len(x[0].replace(\"'\",\"\"))==0:\n",
    "            return 0\n",
    "        else:\n",
    "            return 1\n",
    "def extract_aspects(x):\n",
    "    ''' Counts the number of aspects in the aspect field of the dataset'''\n",
    "    x=x.replace(\"[\",\"\").replace(\"]\",\"\").replace(\"'\",\"\")\n",
    "    x=x.strip().split(\"' '\")\n",
    "    \n",
    "    return x\n",
    "     \n",
    "            "
   ]
  },
  {
   "cell_type": "code",
   "execution_count": 7,
   "id": "59759809",
   "metadata": {},
   "outputs": [],
   "source": [
    "def count_number_of_sentiments(x):\n",
    "    ''' Counts the number of sentiments in the sentiment field of the dataset'''\n",
    "    x=x.replace(\"[\",\"\").replace(\"]\",\"\")\n",
    "    x=x.strip().split(\" \")\n",
    "    if len(x)>1:\n",
    "        return len(x)\n",
    "    else:\n",
    "        if len(x[0].replace(\"'\",\"\"))==0:\n",
    "            return 0\n",
    "        else:\n",
    "            return 1\n",
    "            "
   ]
  },
  {
   "cell_type": "code",
   "execution_count": 8,
   "id": "9c1891b7",
   "metadata": {},
   "outputs": [],
   "source": [
    "dataset['num_of_sentiments']=dataset['sentiment'].apply(lambda x:count_number_of_sentiments(x))"
   ]
  },
  {
   "cell_type": "code",
   "execution_count": 9,
   "id": "f4e4f277",
   "metadata": {},
   "outputs": [],
   "source": [
    "dataset['num_of_aspects']=dataset['aspect'].apply(lambda x:count_number_of_aspects(x))"
   ]
  },
  {
   "cell_type": "code",
   "execution_count": 10,
   "id": "d38e988a",
   "metadata": {},
   "outputs": [
    {
     "data": {
      "text/plain": [
       "num_of_sentiments\n",
       "1     64.186513\n",
       "2     18.075014\n",
       "0     12.298973\n",
       "3      4.276844\n",
       "4      0.887736\n",
       "5      0.198403\n",
       "6      0.052817\n",
       "7      0.011511\n",
       "8      0.007449\n",
       "10     0.002031\n",
       "9      0.002031\n",
       "11     0.000677\n",
       "Name: count, dtype: float64"
      ]
     },
     "execution_count": 10,
     "metadata": {},
     "output_type": "execute_result"
    }
   ],
   "source": [
    "#18 percentage of records have sentiments missing\n",
    "dataset['num_of_sentiments'].value_counts()/len(dataset)*100"
   ]
  },
  {
   "cell_type": "code",
   "execution_count": 11,
   "id": "74f2978a",
   "metadata": {},
   "outputs": [],
   "source": [
    "dataset['sentiment']=dataset['sentiment'].apply(lambda x: x.lower())"
   ]
  },
  {
   "cell_type": "code",
   "execution_count": 12,
   "id": "0772a852",
   "metadata": {},
   "outputs": [],
   "source": [
    "dataset['is_negative']=dataset['sentiment'].apply(lambda x: 1 if 'negative' in x  else 0)\n",
    "dataset['is_positive']=dataset['sentiment'].apply(lambda x: 1 if 'positive' in x  else 0)\n",
    "dataset['is_neutral']=dataset['sentiment'].apply(lambda x: 1 if 'neutral' in x  else 0)"
   ]
  },
  {
   "cell_type": "code",
   "execution_count": 13,
   "id": "bd80f1e4",
   "metadata": {},
   "outputs": [
    {
     "name": "stdout",
     "output_type": "stream",
     "text": [
      "0.21682161986470655\n",
      "0.21682161986470655\n",
      "0.2557303340353063\n"
     ]
    }
   ],
   "source": [
    "#class well balanced\n",
    "print(dataset.is_negative.sum()/len(dataset))\n",
    "print(dataset.is_negative.sum()/len(dataset))\n",
    "print(dataset.is_neutral.sum()/len(dataset))"
   ]
  },
  {
   "cell_type": "code",
   "execution_count": 14,
   "id": "1ee8128d",
   "metadata": {},
   "outputs": [],
   "source": [
    "#spliting review text into sentences\n",
    "dataset['split_reviewText_sentences']=dataset['reviewText'].apply(lambda x:nltk.tokenize.sent_tokenize(x))"
   ]
  },
  {
   "cell_type": "code",
   "execution_count": 15,
   "id": "3d747bdb",
   "metadata": {},
   "outputs": [],
   "source": [
    "#checking number of sentences in each review text\n",
    "dataset['number_of_sentences']=dataset['split_reviewText_sentences'].apply(lambda x:len(x))"
   ]
  },
  {
   "cell_type": "code",
   "execution_count": 16,
   "id": "994c8adc",
   "metadata": {},
   "outputs": [],
   "source": [
    "#checking if the number of sentiments and sentences are same for each record\n",
    "dataset['diff_between_num_sentences_num_sentiments']=np.abs(dataset['number_of_sentences']-dataset['num_of_sentiments'])"
   ]
  },
  {
   "cell_type": "code",
   "execution_count": 17,
   "id": "277319bc",
   "metadata": {},
   "outputs": [
    {
     "data": {
      "text/plain": [
       "diff_between_num_sentences_num_sentiments\n",
       "0      39.134880\n",
       "1      38.898557\n",
       "2      12.761462\n",
       "3       4.597133\n",
       "4       2.028724\n",
       "5       0.966962\n",
       "6       0.526141\n",
       "7       0.352115\n",
       "8       0.218718\n",
       "9       0.142200\n",
       "10      0.100217\n",
       "11      0.069069\n",
       "12      0.054172\n",
       "13      0.033180\n",
       "14      0.021669\n",
       "15      0.014897\n",
       "17      0.012866\n",
       "16      0.011511\n",
       "18      0.010157\n",
       "19      0.006771\n",
       "20      0.005417\n",
       "23      0.004740\n",
       "21      0.004740\n",
       "28      0.003386\n",
       "30      0.002709\n",
       "25      0.002031\n",
       "27      0.002031\n",
       "29      0.001354\n",
       "22      0.001354\n",
       "35      0.001354\n",
       "26      0.000677\n",
       "74      0.000677\n",
       "24      0.000677\n",
       "81      0.000677\n",
       "121     0.000677\n",
       "41      0.000677\n",
       "37      0.000677\n",
       "31      0.000677\n",
       "33      0.000677\n",
       "32      0.000677\n",
       "56      0.000677\n",
       "34      0.000677\n",
       "38      0.000677\n",
       "128     0.000677\n",
       "Name: count, dtype: float64"
      ]
     },
     "execution_count": 17,
     "metadata": {},
     "output_type": "execute_result"
    }
   ],
   "source": [
    "dataset['diff_between_num_sentences_num_sentiments'].value_counts()/len(dataset)*100"
   ]
  },
  {
   "cell_type": "code",
   "execution_count": 18,
   "id": "462c91ff",
   "metadata": {},
   "outputs": [
    {
     "data": {
      "text/plain": [
       "0         0\n",
       "1         0\n",
       "2         0\n",
       "3         0\n",
       "4         0\n",
       "         ..\n",
       "147674    0\n",
       "147675    0\n",
       "147676    0\n",
       "147677    0\n",
       "147678    0\n",
       "Length: 147679, dtype: int64"
      ]
     },
     "execution_count": 18,
     "metadata": {},
     "output_type": "execute_result"
    }
   ],
   "source": [
    "np.abs(dataset['num_of_sentiments']-dataset['num_of_aspects'])"
   ]
  },
  {
   "cell_type": "code",
   "execution_count": 19,
   "id": "0b767f8e",
   "metadata": {},
   "outputs": [
    {
     "data": {
      "text/plain": [
       "0    0.999458\n",
       "1    0.000535\n",
       "2    0.000007\n",
       "Name: count, dtype: float64"
      ]
     },
     "execution_count": 19,
     "metadata": {},
     "output_type": "execute_result"
    }
   ],
   "source": [
    "#number of sentiments and number of aspects are equal\n",
    "(np.abs(dataset['num_of_sentiments']-dataset['num_of_aspects'])).value_counts()/len(dataset)"
   ]
  },
  {
   "cell_type": "code",
   "execution_count": 20,
   "id": "3ffd1482",
   "metadata": {},
   "outputs": [],
   "source": [
    "#Analyzing aspects\n",
    "dataset['extracted_aspect']=dataset['aspect'].apply(lambda x:extract_aspects(x))"
   ]
  },
  {
   "cell_type": "code",
   "execution_count": 22,
   "id": "afc3a2cb",
   "metadata": {},
   "outputs": [],
   "source": [
    "l=dataset['extracted_aspect'].to_list()\n",
    "list_of_aspects=[item for sublist in l for item in sublist]"
   ]
  },
  {
   "cell_type": "code",
   "execution_count": 26,
   "id": "7cc46121",
   "metadata": {},
   "outputs": [
    {
     "data": {
      "text/plain": [
       "147679"
      ]
     },
     "execution_count": 26,
     "metadata": {},
     "output_type": "execute_result"
    }
   ],
   "source": [
    "#total number of aspect\n",
    "len(list_of_aspects)"
   ]
  },
  {
   "attachments": {},
   "cell_type": "markdown",
   "id": "515ff292",
   "metadata": {},
   "source": [
    "### Pre-processing text"
   ]
  },
  {
   "cell_type": "code",
   "execution_count": 48,
   "id": "8ba7644c",
   "metadata": {},
   "outputs": [],
   "source": [
    "import spacy\n",
    "import re"
   ]
  },
  {
   "cell_type": "code",
   "execution_count": 36,
   "id": "080deb03",
   "metadata": {},
   "outputs": [],
   "source": [
    "nlp = spacy.load(\"en_core_web_sm\")"
   ]
  },
  {
   "cell_type": "code",
   "execution_count": 43,
   "id": "b4b39341",
   "metadata": {},
   "outputs": [],
   "source": [
    "doc=nlp(\"Great TASTE . GMO FREE ! ! ! ! ! I only use water , other use fruit and such but I do not have that option at work . Water works great .\")"
   ]
  },
  {
   "cell_type": "code",
   "execution_count": 44,
   "id": "e9bd1b4b",
   "metadata": {},
   "outputs": [
    {
     "data": {
      "text/plain": [
       "['tok2vec', 'tagger', 'parser', 'attribute_ruler', 'lemmatizer', 'ner']"
      ]
     },
     "execution_count": 44,
     "metadata": {},
     "output_type": "execute_result"
    }
   ],
   "source": [
    "nlp.pipe_names"
   ]
  },
  {
   "cell_type": "code",
   "execution_count": 86,
   "id": "0aefc2de",
   "metadata": {},
   "outputs": [],
   "source": [
    "def preprocess(text):\n",
    "    text=text.lower()\n",
    "    text=''.join([i for i in text if not i.isdigit()]) #remove digit    \n",
    "    text=re.sub(r'[^\\w\\s]', '', text) # remove special characters/puctuations\n",
    "    text=\" \".join(text.split()) #remove extra spaces\n",
    "    doc=nlp(text)\n",
    "    text=[token.lemma_ for token in doc]\n",
    "    text=' '.join(text)\n",
    "    return text"
   ]
  },
  {
   "cell_type": "code",
   "execution_count": 91,
   "id": "d318d3fb",
   "metadata": {},
   "outputs": [],
   "source": [
    "from tqdm import tqdm"
   ]
  },
  {
   "cell_type": "code",
   "execution_count": 92,
   "id": "64f484f8",
   "metadata": {},
   "outputs": [],
   "source": [
    "tqdm.pandas()"
   ]
  },
  {
   "cell_type": "code",
   "execution_count": 94,
   "id": "d0df6891",
   "metadata": {},
   "outputs": [
    {
     "name": "stderr",
     "output_type": "stream",
     "text": [
      "100%|█████████████████████████████████████████████████████████████████████████| 147679/147679 [15:14<00:00, 161.54it/s]\n"
     ]
    }
   ],
   "source": [
    "dataset['cleaned_text']=dataset['reviewText'].progress_map(lambda x:preprocess(x))"
   ]
  },
  {
   "cell_type": "code",
   "execution_count": 99,
   "id": "e7efd005",
   "metadata": {},
   "outputs": [],
   "source": [
    "#pruning rows with 0 sentiments\n",
    "dataset=dataset[dataset['num_of_sentiments']!=0]"
   ]
  },
  {
   "cell_type": "code",
   "execution_count": 101,
   "id": "29682f5f",
   "metadata": {},
   "outputs": [
    {
     "data": {
      "text/plain": [
       "Unnamed: 0                                   0\n",
       "index                                        0\n",
       "unique_id                                    0\n",
       "reviewText                                   0\n",
       "aspect                                       0\n",
       "sentiment                                    0\n",
       "num_of_sentiments                            0\n",
       "num_of_aspects                               0\n",
       "is_negative                                  0\n",
       "is_positive                                  0\n",
       "is_neutral                                   0\n",
       "split_reviewText_sentences                   0\n",
       "number_of_sentences                          0\n",
       "diff_between_num_sentences_num_sentiments    0\n",
       "extracted_aspect                             0\n",
       "cleaned_text                                 0\n",
       "dtype: int64"
      ]
     },
     "execution_count": 101,
     "metadata": {},
     "output_type": "execute_result"
    }
   ],
   "source": [
    "#no nans\n",
    "dataset.isna().sum()"
   ]
  },
  {
   "cell_type": "code",
   "execution_count": 102,
   "id": "bad1d09b",
   "metadata": {},
   "outputs": [],
   "source": [
    "#dataset.to_csv(r\"C:\\Users\\atreya.bandyopad\\Documents\\NLP_L2\\Dataset\\sub case study1\\case1_cleaned_set.csv\")"
   ]
  },
  {
   "cell_type": "code",
   "execution_count": null,
   "id": "5e626318",
   "metadata": {},
   "outputs": [],
   "source": []
  },
  {
   "attachments": {},
   "cell_type": "markdown",
   "id": "aec602c4",
   "metadata": {},
   "source": [
    "### Modellinng"
   ]
  },
  {
   "cell_type": "code",
   "execution_count": 104,
   "id": "c01f56dc",
   "metadata": {},
   "outputs": [],
   "source": [
    "from sklearn.model_selection import train_test_split"
   ]
  },
  {
   "cell_type": "code",
   "execution_count": 105,
   "id": "ac69de38",
   "metadata": {},
   "outputs": [],
   "source": [
    "train_df,test_df=train_test_split(dataset,random_state=32,test_size=.30)"
   ]
  },
  {
   "cell_type": "code",
   "execution_count": 106,
   "id": "8d768e51",
   "metadata": {},
   "outputs": [],
   "source": [
    "train_df,valid_df=train_test_split(train_df,random_state=32,test_size=.30)"
   ]
  },
  {
   "cell_type": "code",
   "execution_count": null,
   "id": "baa2dc11",
   "metadata": {},
   "outputs": [],
   "source": []
  }
 ],
 "metadata": {
  "kernelspec": {
   "display_name": "Python 3 (ipykernel)",
   "language": "python",
   "name": "python3"
  },
  "language_info": {
   "codemirror_mode": {
    "name": "ipython",
    "version": 3
   },
   "file_extension": ".py",
   "mimetype": "text/x-python",
   "name": "python",
   "nbconvert_exporter": "python",
   "pygments_lexer": "ipython3",
   "version": "3.9.16"
  }
 },
 "nbformat": 4,
 "nbformat_minor": 5
}
