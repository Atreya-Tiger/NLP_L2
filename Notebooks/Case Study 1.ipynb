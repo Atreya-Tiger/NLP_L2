{
 "cells": [
  {
   "cell_type": "code",
   "execution_count": 28,
   "id": "8202198f",
   "metadata": {},
   "outputs": [],
   "source": [
    "import numpy as np"
   ]
  },
  {
   "cell_type": "code",
   "execution_count": 2,
   "metadata": {},
   "outputs": [],
   "source": [
    "import pandas as pd\n",
    "import matplotlib.pyplot as plt\n",
    "import nltk"
   ]
  },
  {
   "attachments": {},
   "cell_type": "markdown",
   "id": "44a1ff1d",
   "metadata": {},
   "source": [
    "### Loading dataset"
   ]
  },
  {
   "cell_type": "code",
   "execution_count": 3,
   "id": "cc9ef070",
   "metadata": {},
   "outputs": [],
   "source": [
    "dataset=pd.read_csv(r\"C:\\Users\\atreya.bandyopad\\Documents\\NLP_L2\\Dataset\\sub case study1\\client C customer reviews.csv\")"
   ]
  },
  {
   "cell_type": "code",
   "execution_count": 4,
   "id": "f2829adb",
   "metadata": {},
   "outputs": [
    {
     "data": {
      "text/html": [
       "<div>\n",
       "<style scoped>\n",
       "    .dataframe tbody tr th:only-of-type {\n",
       "        vertical-align: middle;\n",
       "    }\n",
       "\n",
       "    .dataframe tbody tr th {\n",
       "        vertical-align: top;\n",
       "    }\n",
       "\n",
       "    .dataframe thead th {\n",
       "        text-align: right;\n",
       "    }\n",
       "</style>\n",
       "<table border=\"1\" class=\"dataframe\">\n",
       "  <thead>\n",
       "    <tr style=\"text-align: right;\">\n",
       "      <th></th>\n",
       "      <th>Unnamed: 0</th>\n",
       "      <th>index</th>\n",
       "      <th>unique_id</th>\n",
       "      <th>reviewText</th>\n",
       "      <th>aspect</th>\n",
       "      <th>sentiment</th>\n",
       "    </tr>\n",
       "  </thead>\n",
       "  <tbody>\n",
       "    <tr>\n",
       "      <th>0</th>\n",
       "      <td>0</td>\n",
       "      <td>0</td>\n",
       "      <td>Grocery &amp; Gourmet Food_Beverages_Bottled Bever...</td>\n",
       "      <td>ONE OF THE HARDEST THINGS ABOUT LOW CARBING IT...</td>\n",
       "      <td>['MIX']</td>\n",
       "      <td>['Neutral']</td>\n",
       "    </tr>\n",
       "    <tr>\n",
       "      <th>1</th>\n",
       "      <td>2</td>\n",
       "      <td>2</td>\n",
       "      <td>Grocery &amp; Gourmet Food_Beverages_Bottled Bever...</td>\n",
       "      <td>This is as good as it gets for a point margari...</td>\n",
       "      <td>['point margarita']</td>\n",
       "      <td>['Positive']</td>\n",
       "    </tr>\n",
       "    <tr>\n",
       "      <th>2</th>\n",
       "      <td>3</td>\n",
       "      <td>3</td>\n",
       "      <td>Grocery &amp; Gourmet Food_Beverages_Bottled Bever...</td>\n",
       "      <td>The strawberry margarita is all I have been ab...</td>\n",
       "      <td>['margarita' 'find']</td>\n",
       "      <td>['Positive' 'Positive']</td>\n",
       "    </tr>\n",
       "    <tr>\n",
       "      <th>3</th>\n",
       "      <td>5</td>\n",
       "      <td>5</td>\n",
       "      <td>Grocery &amp; Gourmet Food_Beverages_Bottled Bever...</td>\n",
       "      <td>or they tasted just awful . I tried the origin...</td>\n",
       "      <td>['original Margarita mix']</td>\n",
       "      <td>['Positive']</td>\n",
       "    </tr>\n",
       "    <tr>\n",
       "      <th>4</th>\n",
       "      <td>6</td>\n",
       "      <td>6</td>\n",
       "      <td>Grocery &amp; Gourmet Food_Beverages_Bottled Bever...</td>\n",
       "      <td>I then went a little nuts and ordered of just ...</td>\n",
       "      <td>['flavor']</td>\n",
       "      <td>['Positive']</td>\n",
       "    </tr>\n",
       "  </tbody>\n",
       "</table>\n",
       "</div>"
      ],
      "text/plain": [
       "   Unnamed: 0  index                                          unique_id  \\\n",
       "0           0      0  Grocery & Gourmet Food_Beverages_Bottled Bever...   \n",
       "1           2      2  Grocery & Gourmet Food_Beverages_Bottled Bever...   \n",
       "2           3      3  Grocery & Gourmet Food_Beverages_Bottled Bever...   \n",
       "3           5      5  Grocery & Gourmet Food_Beverages_Bottled Bever...   \n",
       "4           6      6  Grocery & Gourmet Food_Beverages_Bottled Bever...   \n",
       "\n",
       "                                          reviewText  \\\n",
       "0  ONE OF THE HARDEST THINGS ABOUT LOW CARBING IT...   \n",
       "1  This is as good as it gets for a point margari...   \n",
       "2  The strawberry margarita is all I have been ab...   \n",
       "3  or they tasted just awful . I tried the origin...   \n",
       "4  I then went a little nuts and ordered of just ...   \n",
       "\n",
       "                       aspect                sentiment  \n",
       "0                     ['MIX']              ['Neutral']  \n",
       "1         ['point margarita']             ['Positive']  \n",
       "2        ['margarita' 'find']  ['Positive' 'Positive']  \n",
       "3  ['original Margarita mix']             ['Positive']  \n",
       "4                  ['flavor']             ['Positive']  "
      ]
     },
     "execution_count": 4,
     "metadata": {},
     "output_type": "execute_result"
    }
   ],
   "source": [
    "dataset.head()"
   ]
  },
  {
   "cell_type": "code",
   "execution_count": 5,
   "id": "83b9ecf6",
   "metadata": {},
   "outputs": [
    {
     "data": {
      "text/plain": [
       "(147679, 6)"
      ]
     },
     "execution_count": 5,
     "metadata": {},
     "output_type": "execute_result"
    }
   ],
   "source": [
    "dataset.shape"
   ]
  },
  {
   "attachments": {},
   "cell_type": "markdown",
   "id": "7d410fc6",
   "metadata": {},
   "source": [
    "### EDA"
   ]
  },
  {
   "cell_type": "code",
   "execution_count": 6,
   "id": "8aae95b9",
   "metadata": {},
   "outputs": [],
   "source": [
    "def count_number_of_aspects(x):\n",
    "    ''' Counts the number of aspects in the aspect field of the dataset'''\n",
    "    x=x.replace(\"[\",\"\").replace(\"]\",\"\")\n",
    "    x=x.strip().split(\"' '\")\n",
    "    if len(x)>1:\n",
    "        return len(x)\n",
    "    else:\n",
    "        if len(x[0].replace(\"'\",\"\"))==0:\n",
    "            return 0\n",
    "        else:\n",
    "            return 1\n",
    "def extract_aspects(x):\n",
    "    ''' Counts the number of aspects in the aspect field of the dataset'''\n",
    "    x=x.replace(\"[\",\"\").replace(\"]\",\"\").replace(\"'\",\"\")\n",
    "    x=x.strip().split(\"' '\")\n",
    "    \n",
    "    return x\n",
    "     \n",
    "            "
   ]
  },
  {
   "cell_type": "code",
   "execution_count": 7,
   "id": "59759809",
   "metadata": {},
   "outputs": [],
   "source": [
    "def count_number_of_sentiments(x):\n",
    "    ''' Counts the number of sentiments in the sentiment field of the dataset'''\n",
    "    x=x.replace(\"[\",\"\").replace(\"]\",\"\")\n",
    "    x=x.strip().split(\" \")\n",
    "    if len(x)>1:\n",
    "        return len(x)\n",
    "    else:\n",
    "        if len(x[0].replace(\"'\",\"\"))==0:\n",
    "            return 0\n",
    "        else:\n",
    "            return 1\n",
    "            "
   ]
  },
  {
   "cell_type": "code",
   "execution_count": 8,
   "id": "9c1891b7",
   "metadata": {},
   "outputs": [],
   "source": [
    "dataset['num_of_sentiments']=dataset['sentiment'].apply(lambda x:count_number_of_sentiments(x))"
   ]
  },
  {
   "cell_type": "code",
   "execution_count": 9,
   "id": "f4e4f277",
   "metadata": {},
   "outputs": [],
   "source": [
    "dataset['num_of_aspects']=dataset['aspect'].apply(lambda x:count_number_of_aspects(x))"
   ]
  },
  {
   "cell_type": "code",
   "execution_count": 10,
   "id": "d38e988a",
   "metadata": {},
   "outputs": [
    {
     "data": {
      "text/plain": [
       "num_of_sentiments\n",
       "1     64.186513\n",
       "2     18.075014\n",
       "0     12.298973\n",
       "3      4.276844\n",
       "4      0.887736\n",
       "5      0.198403\n",
       "6      0.052817\n",
       "7      0.011511\n",
       "8      0.007449\n",
       "10     0.002031\n",
       "9      0.002031\n",
       "11     0.000677\n",
       "Name: count, dtype: float64"
      ]
     },
     "execution_count": 10,
     "metadata": {},
     "output_type": "execute_result"
    }
   ],
   "source": [
    "#18 percentage of records have sentiments missing\n",
    "dataset['num_of_sentiments'].value_counts()/len(dataset)*100"
   ]
  },
  {
   "cell_type": "code",
   "execution_count": 11,
   "id": "74f2978a",
   "metadata": {},
   "outputs": [],
   "source": [
    "dataset['sentiment']=dataset['sentiment'].apply(lambda x: x.lower())"
   ]
  },
  {
   "cell_type": "code",
   "execution_count": 12,
   "id": "0772a852",
   "metadata": {},
   "outputs": [],
   "source": [
    "dataset['is_negative']=dataset['sentiment'].apply(lambda x: 1 if 'negative' in x  else 0)\n",
    "dataset['is_positive']=dataset['sentiment'].apply(lambda x: 1 if 'positive' in x  else 0)\n",
    "dataset['is_neutral']=dataset['sentiment'].apply(lambda x: 1 if 'neutral' in x  else 0)"
   ]
  },
  {
   "cell_type": "code",
   "execution_count": 13,
   "id": "bd80f1e4",
   "metadata": {},
   "outputs": [
    {
     "name": "stdout",
     "output_type": "stream",
     "text": [
      "0.21682161986470655\n",
      "0.21682161986470655\n",
      "0.2557303340353063\n"
     ]
    }
   ],
   "source": [
    "#class well balanced\n",
    "print(dataset.is_negative.sum()/len(dataset))\n",
    "print(dataset.is_negative.sum()/len(dataset))\n",
    "print(dataset.is_neutral.sum()/len(dataset))"
   ]
  },
  {
   "cell_type": "code",
   "execution_count": 14,
   "id": "1ee8128d",
   "metadata": {},
   "outputs": [],
   "source": [
    "#spliting review text into sentences\n",
    "dataset['split_reviewText_sentences']=dataset['reviewText'].apply(lambda x:nltk.tokenize.sent_tokenize(x))"
   ]
  },
  {
   "cell_type": "code",
   "execution_count": 15,
   "id": "3d747bdb",
   "metadata": {},
   "outputs": [],
   "source": [
    "#checking number of sentences in each review text\n",
    "dataset['number_of_sentences']=dataset['split_reviewText_sentences'].apply(lambda x:len(x))"
   ]
  },
  {
   "cell_type": "code",
   "execution_count": 16,
   "id": "994c8adc",
   "metadata": {},
   "outputs": [],
   "source": [
    "#checking if the number of sentiments and sentences are same for each record\n",
    "dataset['diff_between_num_sentences_num_sentiments']=np.abs(dataset['number_of_sentences']-dataset['num_of_sentiments'])"
   ]
  },
  {
   "cell_type": "code",
   "execution_count": 17,
   "id": "277319bc",
   "metadata": {},
   "outputs": [
    {
     "data": {
      "text/plain": [
       "diff_between_num_sentences_num_sentiments\n",
       "0      39.134880\n",
       "1      38.898557\n",
       "2      12.761462\n",
       "3       4.597133\n",
       "4       2.028724\n",
       "5       0.966962\n",
       "6       0.526141\n",
       "7       0.352115\n",
       "8       0.218718\n",
       "9       0.142200\n",
       "10      0.100217\n",
       "11      0.069069\n",
       "12      0.054172\n",
       "13      0.033180\n",
       "14      0.021669\n",
       "15      0.014897\n",
       "17      0.012866\n",
       "16      0.011511\n",
       "18      0.010157\n",
       "19      0.006771\n",
       "20      0.005417\n",
       "23      0.004740\n",
       "21      0.004740\n",
       "28      0.003386\n",
       "30      0.002709\n",
       "25      0.002031\n",
       "27      0.002031\n",
       "29      0.001354\n",
       "22      0.001354\n",
       "35      0.001354\n",
       "26      0.000677\n",
       "74      0.000677\n",
       "24      0.000677\n",
       "81      0.000677\n",
       "121     0.000677\n",
       "41      0.000677\n",
       "37      0.000677\n",
       "31      0.000677\n",
       "33      0.000677\n",
       "32      0.000677\n",
       "56      0.000677\n",
       "34      0.000677\n",
       "38      0.000677\n",
       "128     0.000677\n",
       "Name: count, dtype: float64"
      ]
     },
     "execution_count": 17,
     "metadata": {},
     "output_type": "execute_result"
    }
   ],
   "source": [
    "dataset['diff_between_num_sentences_num_sentiments'].value_counts()/len(dataset)*100"
   ]
  },
  {
   "cell_type": "code",
   "execution_count": 18,
   "id": "462c91ff",
   "metadata": {},
   "outputs": [
    {
     "data": {
      "text/plain": [
       "0         0\n",
       "1         0\n",
       "2         0\n",
       "3         0\n",
       "4         0\n",
       "         ..\n",
       "147674    0\n",
       "147675    0\n",
       "147676    0\n",
       "147677    0\n",
       "147678    0\n",
       "Length: 147679, dtype: int64"
      ]
     },
     "execution_count": 18,
     "metadata": {},
     "output_type": "execute_result"
    }
   ],
   "source": [
    "np.abs(dataset['num_of_sentiments']-dataset['num_of_aspects'])"
   ]
  },
  {
   "cell_type": "code",
   "execution_count": 19,
   "id": "0b767f8e",
   "metadata": {},
   "outputs": [
    {
     "data": {
      "text/plain": [
       "0    0.999458\n",
       "1    0.000535\n",
       "2    0.000007\n",
       "Name: count, dtype: float64"
      ]
     },
     "execution_count": 19,
     "metadata": {},
     "output_type": "execute_result"
    }
   ],
   "source": [
    "#number of sentiments and number of aspects are equal\n",
    "(np.abs(dataset['num_of_sentiments']-dataset['num_of_aspects'])).value_counts()/len(dataset)"
   ]
  },
  {
   "cell_type": "code",
   "execution_count": 20,
   "id": "3ffd1482",
   "metadata": {},
   "outputs": [],
   "source": [
    "#Analyzing aspects\n",
    "dataset['extracted_aspect']=dataset['aspect'].apply(lambda x:extract_aspects(x))"
   ]
  },
  {
   "cell_type": "code",
   "execution_count": 22,
   "id": "afc3a2cb",
   "metadata": {},
   "outputs": [],
   "source": [
    "l=dataset['extracted_aspect'].to_list()\n",
    "list_of_aspects=[item for sublist in l for item in sublist]"
   ]
  },
  {
   "cell_type": "code",
   "execution_count": 26,
   "id": "7cc46121",
   "metadata": {},
   "outputs": [
    {
     "data": {
      "text/plain": [
       "147679"
      ]
     },
     "execution_count": 26,
     "metadata": {},
     "output_type": "execute_result"
    }
   ],
   "source": [
    "#total number of aspect\n",
    "len(list_of_aspects)"
   ]
  },
  {
   "attachments": {},
   "cell_type": "markdown",
   "id": "515ff292",
   "metadata": {},
   "source": [
    "### Pre-processing text"
   ]
  },
  {
   "cell_type": "code",
   "execution_count": 48,
   "id": "8ba7644c",
   "metadata": {},
   "outputs": [],
   "source": [
    "import spacy\n",
    "import re"
   ]
  },
  {
   "cell_type": "code",
   "execution_count": 36,
   "id": "080deb03",
   "metadata": {},
   "outputs": [],
   "source": [
    "nlp = spacy.load(\"en_core_web_sm\")"
   ]
  },
  {
   "cell_type": "code",
   "execution_count": 43,
   "id": "b4b39341",
   "metadata": {},
   "outputs": [],
   "source": [
    "doc=nlp(\"Great TASTE . GMO FREE ! ! ! ! ! I only use water , other use fruit and such but I do not have that option at work . Water works great .\")"
   ]
  },
  {
   "cell_type": "code",
   "execution_count": 44,
   "id": "e9bd1b4b",
   "metadata": {},
   "outputs": [
    {
     "data": {
      "text/plain": [
       "['tok2vec', 'tagger', 'parser', 'attribute_ruler', 'lemmatizer', 'ner']"
      ]
     },
     "execution_count": 44,
     "metadata": {},
     "output_type": "execute_result"
    }
   ],
   "source": [
    "nlp.pipe_names"
   ]
  },
  {
   "cell_type": "code",
   "execution_count": 86,
   "id": "0aefc2de",
   "metadata": {},
   "outputs": [],
   "source": [
    "def preprocess(text):\n",
    "    text=text.lower()\n",
    "    text=''.join([i for i in text if not i.isdigit()]) #remove digit    \n",
    "    text=re.sub(r'[^\\w\\s]', '', text) # remove special characters/puctuations\n",
    "    text=\" \".join(text.split()) #remove extra spaces\n",
    "    doc=nlp(text)\n",
    "    text=[token.lemma_ for token in doc]\n",
    "    text=' '.join(text)\n",
    "    return text"
   ]
  },
  {
   "cell_type": "code",
   "execution_count": 91,
   "id": "d318d3fb",
   "metadata": {},
   "outputs": [],
   "source": [
    "from tqdm import tqdm"
   ]
  },
  {
   "cell_type": "code",
   "execution_count": 92,
   "id": "64f484f8",
   "metadata": {},
   "outputs": [],
   "source": [
    "tqdm.pandas()"
   ]
  },
  {
   "cell_type": "code",
   "execution_count": 94,
   "id": "d0df6891",
   "metadata": {},
   "outputs": [
    {
     "name": "stderr",
     "output_type": "stream",
     "text": [
      "100%|█████████████████████████████████████████████████████████████████████████| 147679/147679 [15:14<00:00, 161.54it/s]\n"
     ]
    }
   ],
   "source": [
    "dataset['cleaned_text']=dataset['reviewText'].progress_map(lambda x:preprocess(x))"
   ]
  },
  {
   "cell_type": "code",
   "execution_count": 99,
   "id": "e7efd005",
   "metadata": {},
   "outputs": [],
   "source": [
    "#pruning rows with 0 sentiments\n",
    "dataset=dataset[dataset['num_of_sentiments']!=0]"
   ]
  },
  {
   "cell_type": "code",
   "execution_count": 101,
   "id": "29682f5f",
   "metadata": {},
   "outputs": [
    {
     "data": {
      "text/plain": [
       "Unnamed: 0                                   0\n",
       "index                                        0\n",
       "unique_id                                    0\n",
       "reviewText                                   0\n",
       "aspect                                       0\n",
       "sentiment                                    0\n",
       "num_of_sentiments                            0\n",
       "num_of_aspects                               0\n",
       "is_negative                                  0\n",
       "is_positive                                  0\n",
       "is_neutral                                   0\n",
       "split_reviewText_sentences                   0\n",
       "number_of_sentences                          0\n",
       "diff_between_num_sentences_num_sentiments    0\n",
       "extracted_aspect                             0\n",
       "cleaned_text                                 0\n",
       "dtype: int64"
      ]
     },
     "execution_count": 101,
     "metadata": {},
     "output_type": "execute_result"
    }
   ],
   "source": [
    "#no nans\n",
    "dataset.isna().sum()"
   ]
  },
  {
   "cell_type": "code",
   "execution_count": 102,
   "id": "bad1d09b",
   "metadata": {},
   "outputs": [],
   "source": [
    "#dataset.to_csv(r\"C:\\Users\\atreya.bandyopad\\Documents\\NLP_L2\\Dataset\\sub case study1\\case1_cleaned_set.csv\")"
   ]
  },
  {
   "cell_type": "code",
   "execution_count": null,
   "id": "5e626318",
   "metadata": {},
   "outputs": [],
   "source": []
  },
  {
   "attachments": {},
   "cell_type": "markdown",
   "id": "aec602c4",
   "metadata": {},
   "source": [
    "### Modellinng"
   ]
  },
  {
   "cell_type": "code",
   "execution_count": 114,
   "id": "c01f56dc",
   "metadata": {},
   "outputs": [],
   "source": [
    "from sklearn.model_selection import train_test_split\n",
    "import tensorflow as tf\n",
    "import tensorflow_hub as hub\n",
    "import tensorflow_text as text"
   ]
  },
  {
   "cell_type": "code",
   "execution_count": 105,
   "id": "ac69de38",
   "metadata": {},
   "outputs": [],
   "source": [
    "train_df,test_df=train_test_split(dataset,random_state=32,test_size=.30)"
   ]
  },
  {
   "cell_type": "code",
   "execution_count": 106,
   "id": "8d768e51",
   "metadata": {},
   "outputs": [],
   "source": [
    "train_df,valid_df=train_test_split(train_df,random_state=32,test_size=.30)"
   ]
  },
  {
   "cell_type": "code",
   "execution_count": 115,
   "id": "baa2dc11",
   "metadata": {},
   "outputs": [],
   "source": [
    "bert_preprocess = hub.KerasLayer(\"https://tfhub.dev/tensorflow/bert_en_uncased_preprocess/3\")\n",
    "bert_encoder = hub.KerasLayer(\"https://tfhub.dev/tensorflow/bert_en_uncased_L-12_H-768_A-12/4\")"
   ]
  },
  {
   "cell_type": "code",
   "execution_count": 122,
   "id": "9ffe9441",
   "metadata": {},
   "outputs": [],
   "source": [
    "def create_model():\n",
    "    text_input = tf.keras.layers.Input(shape=(), dtype=tf.string, name='text')\n",
    "    preprocessed_text = bert_preprocess(text_input)\n",
    "    outputs = bert_encoder(preprocessed_text)\n",
    "    # Neural network layers\n",
    "    l = tf.keras.layers.Dropout(0.1, name=\"dropout\")(outputs['pooled_output'])\n",
    "    l = tf.keras.layers.Dense(3, activation='sigmoid', name=\"output\")(l)\n",
    "    # Use inputs and outputs to construct a final model\n",
    "    model = tf.keras.Model(inputs=[text_input], outputs = [l])\n",
    "    return model"
   ]
  },
  {
   "cell_type": "code",
   "execution_count": 123,
   "id": "c5538e83",
   "metadata": {},
   "outputs": [],
   "source": [
    "model=create_model()"
   ]
  },
  {
   "cell_type": "code",
   "execution_count": 124,
   "id": "e33f2456",
   "metadata": {},
   "outputs": [],
   "source": [
    "model.compile(loss='categorical_crossentropy', optimizer='adam', metrics=['accuracy'])"
   ]
  },
  {
   "cell_type": "code",
   "execution_count": 125,
   "id": "a2e009b1",
   "metadata": {},
   "outputs": [
    {
     "data": {
      "text/plain": [
       "Index(['Unnamed: 0', 'index', 'unique_id', 'reviewText', 'aspect', 'sentiment',\n",
       "       'num_of_sentiments', 'num_of_aspects', 'is_negative', 'is_positive',\n",
       "       'is_neutral', 'split_reviewText_sentences', 'number_of_sentences',\n",
       "       'diff_between_num_sentences_num_sentiments', 'extracted_aspect',\n",
       "       'cleaned_text'],\n",
       "      dtype='object')"
      ]
     },
     "execution_count": 125,
     "metadata": {},
     "output_type": "execute_result"
    }
   ],
   "source": [
    "train_df.columns"
   ]
  },
  {
   "cell_type": "code",
   "execution_count": 126,
   "id": "f8e11378",
   "metadata": {},
   "outputs": [
    {
     "name": "stdout",
     "output_type": "stream",
     "text": [
      "Epoch 1/3\n",
      "1984/1984 [==============================] - ETA: 0s - loss: 1.0664 - accuracy: 0.5870"
     ]
    },
    {
     "ename": "KeyboardInterrupt",
     "evalue": "",
     "output_type": "error",
     "traceback": [
      "\u001b[1;31m---------------------------------------------------------------------------\u001b[0m",
      "\u001b[1;31mKeyboardInterrupt\u001b[0m                         Traceback (most recent call last)",
      "Cell \u001b[1;32mIn[126], line 4\u001b[0m\n\u001b[0;32m      2\u001b[0m epochs\u001b[39m=\u001b[39m\u001b[39m3\u001b[39m\n\u001b[0;32m      3\u001b[0m batch_size\u001b[39m=\u001b[39m\u001b[39m32\u001b[39m\n\u001b[1;32m----> 4\u001b[0m model\u001b[39m.\u001b[39;49mfit(train_df[\u001b[39m'\u001b[39;49m\u001b[39mcleaned_text\u001b[39;49m\u001b[39m'\u001b[39;49m],train_df[[\u001b[39m'\u001b[39;49m\u001b[39mis_negative\u001b[39;49m\u001b[39m'\u001b[39;49m, \u001b[39m'\u001b[39;49m\u001b[39mis_positive\u001b[39;49m\u001b[39m'\u001b[39;49m,\u001b[39m'\u001b[39;49m\u001b[39mis_neutral\u001b[39;49m\u001b[39m'\u001b[39;49m]],validation_data\u001b[39m=\u001b[39;49mvalidation_data,epochs\u001b[39m=\u001b[39;49mepochs,batch_size\u001b[39m=\u001b[39;49mbatch_size)\n",
      "File \u001b[1;32m~\\Anaconda3\\envs\\NLP\\lib\\site-packages\\keras\\utils\\traceback_utils.py:65\u001b[0m, in \u001b[0;36mfilter_traceback.<locals>.error_handler\u001b[1;34m(*args, **kwargs)\u001b[0m\n\u001b[0;32m     63\u001b[0m filtered_tb \u001b[39m=\u001b[39m \u001b[39mNone\u001b[39;00m\n\u001b[0;32m     64\u001b[0m \u001b[39mtry\u001b[39;00m:\n\u001b[1;32m---> 65\u001b[0m     \u001b[39mreturn\u001b[39;00m fn(\u001b[39m*\u001b[39margs, \u001b[39m*\u001b[39m\u001b[39m*\u001b[39mkwargs)\n\u001b[0;32m     66\u001b[0m \u001b[39mexcept\u001b[39;00m \u001b[39mException\u001b[39;00m \u001b[39mas\u001b[39;00m e:\n\u001b[0;32m     67\u001b[0m     filtered_tb \u001b[39m=\u001b[39m _process_traceback_frames(e\u001b[39m.\u001b[39m__traceback__)\n",
      "File \u001b[1;32m~\\Anaconda3\\envs\\NLP\\lib\\site-packages\\keras\\engine\\training.py:1606\u001b[0m, in \u001b[0;36mModel.fit\u001b[1;34m(self, x, y, batch_size, epochs, verbose, callbacks, validation_split, validation_data, shuffle, class_weight, sample_weight, initial_epoch, steps_per_epoch, validation_steps, validation_batch_size, validation_freq, max_queue_size, workers, use_multiprocessing)\u001b[0m\n\u001b[0;32m   1591\u001b[0m \u001b[39mif\u001b[39;00m \u001b[39mgetattr\u001b[39m(\u001b[39mself\u001b[39m, \u001b[39m\"\u001b[39m\u001b[39m_eval_data_handler\u001b[39m\u001b[39m\"\u001b[39m, \u001b[39mNone\u001b[39;00m) \u001b[39mis\u001b[39;00m \u001b[39mNone\u001b[39;00m:\n\u001b[0;32m   1592\u001b[0m     \u001b[39mself\u001b[39m\u001b[39m.\u001b[39m_eval_data_handler \u001b[39m=\u001b[39m data_adapter\u001b[39m.\u001b[39mget_data_handler(\n\u001b[0;32m   1593\u001b[0m         x\u001b[39m=\u001b[39mval_x,\n\u001b[0;32m   1594\u001b[0m         y\u001b[39m=\u001b[39mval_y,\n\u001b[1;32m   (...)\u001b[0m\n\u001b[0;32m   1604\u001b[0m         steps_per_execution\u001b[39m=\u001b[39m\u001b[39mself\u001b[39m\u001b[39m.\u001b[39m_steps_per_execution,\n\u001b[0;32m   1605\u001b[0m     )\n\u001b[1;32m-> 1606\u001b[0m val_logs \u001b[39m=\u001b[39m \u001b[39mself\u001b[39;49m\u001b[39m.\u001b[39;49mevaluate(\n\u001b[0;32m   1607\u001b[0m     x\u001b[39m=\u001b[39;49mval_x,\n\u001b[0;32m   1608\u001b[0m     y\u001b[39m=\u001b[39;49mval_y,\n\u001b[0;32m   1609\u001b[0m     sample_weight\u001b[39m=\u001b[39;49mval_sample_weight,\n\u001b[0;32m   1610\u001b[0m     batch_size\u001b[39m=\u001b[39;49mvalidation_batch_size \u001b[39mor\u001b[39;49;00m batch_size,\n\u001b[0;32m   1611\u001b[0m     steps\u001b[39m=\u001b[39;49mvalidation_steps,\n\u001b[0;32m   1612\u001b[0m     callbacks\u001b[39m=\u001b[39;49mcallbacks,\n\u001b[0;32m   1613\u001b[0m     max_queue_size\u001b[39m=\u001b[39;49mmax_queue_size,\n\u001b[0;32m   1614\u001b[0m     workers\u001b[39m=\u001b[39;49mworkers,\n\u001b[0;32m   1615\u001b[0m     use_multiprocessing\u001b[39m=\u001b[39;49muse_multiprocessing,\n\u001b[0;32m   1616\u001b[0m     return_dict\u001b[39m=\u001b[39;49m\u001b[39mTrue\u001b[39;49;00m,\n\u001b[0;32m   1617\u001b[0m     _use_cached_eval_dataset\u001b[39m=\u001b[39;49m\u001b[39mTrue\u001b[39;49;00m,\n\u001b[0;32m   1618\u001b[0m )\n\u001b[0;32m   1619\u001b[0m val_logs \u001b[39m=\u001b[39m {\n\u001b[0;32m   1620\u001b[0m     \u001b[39m\"\u001b[39m\u001b[39mval_\u001b[39m\u001b[39m\"\u001b[39m \u001b[39m+\u001b[39m name: val \u001b[39mfor\u001b[39;00m name, val \u001b[39min\u001b[39;00m val_logs\u001b[39m.\u001b[39mitems()\n\u001b[0;32m   1621\u001b[0m }\n\u001b[0;32m   1622\u001b[0m epoch_logs\u001b[39m.\u001b[39mupdate(val_logs)\n",
      "File \u001b[1;32m~\\Anaconda3\\envs\\NLP\\lib\\site-packages\\keras\\utils\\traceback_utils.py:65\u001b[0m, in \u001b[0;36mfilter_traceback.<locals>.error_handler\u001b[1;34m(*args, **kwargs)\u001b[0m\n\u001b[0;32m     63\u001b[0m filtered_tb \u001b[39m=\u001b[39m \u001b[39mNone\u001b[39;00m\n\u001b[0;32m     64\u001b[0m \u001b[39mtry\u001b[39;00m:\n\u001b[1;32m---> 65\u001b[0m     \u001b[39mreturn\u001b[39;00m fn(\u001b[39m*\u001b[39margs, \u001b[39m*\u001b[39m\u001b[39m*\u001b[39mkwargs)\n\u001b[0;32m     66\u001b[0m \u001b[39mexcept\u001b[39;00m \u001b[39mException\u001b[39;00m \u001b[39mas\u001b[39;00m e:\n\u001b[0;32m     67\u001b[0m     filtered_tb \u001b[39m=\u001b[39m _process_traceback_frames(e\u001b[39m.\u001b[39m__traceback__)\n",
      "File \u001b[1;32m~\\Anaconda3\\envs\\NLP\\lib\\site-packages\\keras\\engine\\training.py:1947\u001b[0m, in \u001b[0;36mModel.evaluate\u001b[1;34m(self, x, y, batch_size, verbose, sample_weight, steps, callbacks, max_queue_size, workers, use_multiprocessing, return_dict, **kwargs)\u001b[0m\n\u001b[0;32m   1943\u001b[0m \u001b[39mwith\u001b[39;00m tf\u001b[39m.\u001b[39mprofiler\u001b[39m.\u001b[39mexperimental\u001b[39m.\u001b[39mTrace(\n\u001b[0;32m   1944\u001b[0m     \u001b[39m\"\u001b[39m\u001b[39mtest\u001b[39m\u001b[39m\"\u001b[39m, step_num\u001b[39m=\u001b[39mstep, _r\u001b[39m=\u001b[39m\u001b[39m1\u001b[39m\n\u001b[0;32m   1945\u001b[0m ):\n\u001b[0;32m   1946\u001b[0m     callbacks\u001b[39m.\u001b[39mon_test_batch_begin(step)\n\u001b[1;32m-> 1947\u001b[0m     tmp_logs \u001b[39m=\u001b[39m \u001b[39mself\u001b[39;49m\u001b[39m.\u001b[39;49mtest_function(iterator)\n\u001b[0;32m   1948\u001b[0m     \u001b[39mif\u001b[39;00m data_handler\u001b[39m.\u001b[39mshould_sync:\n\u001b[0;32m   1949\u001b[0m         context\u001b[39m.\u001b[39masync_wait()\n",
      "File \u001b[1;32m~\\Anaconda3\\envs\\NLP\\lib\\site-packages\\tensorflow\\python\\util\\traceback_utils.py:150\u001b[0m, in \u001b[0;36mfilter_traceback.<locals>.error_handler\u001b[1;34m(*args, **kwargs)\u001b[0m\n\u001b[0;32m    148\u001b[0m filtered_tb \u001b[39m=\u001b[39m \u001b[39mNone\u001b[39;00m\n\u001b[0;32m    149\u001b[0m \u001b[39mtry\u001b[39;00m:\n\u001b[1;32m--> 150\u001b[0m   \u001b[39mreturn\u001b[39;00m fn(\u001b[39m*\u001b[39margs, \u001b[39m*\u001b[39m\u001b[39m*\u001b[39mkwargs)\n\u001b[0;32m    151\u001b[0m \u001b[39mexcept\u001b[39;00m \u001b[39mException\u001b[39;00m \u001b[39mas\u001b[39;00m e:\n\u001b[0;32m    152\u001b[0m   filtered_tb \u001b[39m=\u001b[39m _process_traceback_frames(e\u001b[39m.\u001b[39m__traceback__)\n",
      "File \u001b[1;32m~\\Anaconda3\\envs\\NLP\\lib\\site-packages\\tensorflow\\python\\eager\\def_function.py:915\u001b[0m, in \u001b[0;36mFunction.__call__\u001b[1;34m(self, *args, **kwds)\u001b[0m\n\u001b[0;32m    912\u001b[0m compiler \u001b[39m=\u001b[39m \u001b[39m\"\u001b[39m\u001b[39mxla\u001b[39m\u001b[39m\"\u001b[39m \u001b[39mif\u001b[39;00m \u001b[39mself\u001b[39m\u001b[39m.\u001b[39m_jit_compile \u001b[39melse\u001b[39;00m \u001b[39m\"\u001b[39m\u001b[39mnonXla\u001b[39m\u001b[39m\"\u001b[39m\n\u001b[0;32m    914\u001b[0m \u001b[39mwith\u001b[39;00m OptionalXlaContext(\u001b[39mself\u001b[39m\u001b[39m.\u001b[39m_jit_compile):\n\u001b[1;32m--> 915\u001b[0m   result \u001b[39m=\u001b[39m \u001b[39mself\u001b[39m\u001b[39m.\u001b[39m_call(\u001b[39m*\u001b[39margs, \u001b[39m*\u001b[39m\u001b[39m*\u001b[39mkwds)\n\u001b[0;32m    917\u001b[0m new_tracing_count \u001b[39m=\u001b[39m \u001b[39mself\u001b[39m\u001b[39m.\u001b[39mexperimental_get_tracing_count()\n\u001b[0;32m    918\u001b[0m without_tracing \u001b[39m=\u001b[39m (tracing_count \u001b[39m==\u001b[39m new_tracing_count)\n",
      "File \u001b[1;32m~\\Anaconda3\\envs\\NLP\\lib\\site-packages\\tensorflow\\python\\eager\\def_function.py:954\u001b[0m, in \u001b[0;36mFunction._call\u001b[1;34m(self, *args, **kwds)\u001b[0m\n\u001b[0;32m    951\u001b[0m \u001b[39mself\u001b[39m\u001b[39m.\u001b[39m_lock\u001b[39m.\u001b[39mrelease()\n\u001b[0;32m    952\u001b[0m \u001b[39m# In this case we have not created variables on the first call. So we can\u001b[39;00m\n\u001b[0;32m    953\u001b[0m \u001b[39m# run the first trace but we should fail if variables are created.\u001b[39;00m\n\u001b[1;32m--> 954\u001b[0m results \u001b[39m=\u001b[39m \u001b[39mself\u001b[39m\u001b[39m.\u001b[39m_stateful_fn(\u001b[39m*\u001b[39margs, \u001b[39m*\u001b[39m\u001b[39m*\u001b[39mkwds)\n\u001b[0;32m    955\u001b[0m \u001b[39mif\u001b[39;00m \u001b[39mself\u001b[39m\u001b[39m.\u001b[39m_created_variables \u001b[39mand\u001b[39;00m \u001b[39mnot\u001b[39;00m ALLOW_DYNAMIC_VARIABLE_CREATION:\n\u001b[0;32m    956\u001b[0m   \u001b[39mraise\u001b[39;00m \u001b[39mValueError\u001b[39;00m(\u001b[39m\"\u001b[39m\u001b[39mCreating variables on a non-first call to a function\u001b[39m\u001b[39m\"\u001b[39m\n\u001b[0;32m    957\u001b[0m                    \u001b[39m\"\u001b[39m\u001b[39m decorated with tf.function.\u001b[39m\u001b[39m\"\u001b[39m)\n",
      "File \u001b[1;32m~\\Anaconda3\\envs\\NLP\\lib\\site-packages\\tensorflow\\python\\eager\\function.py:2496\u001b[0m, in \u001b[0;36mFunction.__call__\u001b[1;34m(self, *args, **kwargs)\u001b[0m\n\u001b[0;32m   2493\u001b[0m \u001b[39mwith\u001b[39;00m \u001b[39mself\u001b[39m\u001b[39m.\u001b[39m_lock:\n\u001b[0;32m   2494\u001b[0m   (graph_function,\n\u001b[0;32m   2495\u001b[0m    filtered_flat_args) \u001b[39m=\u001b[39m \u001b[39mself\u001b[39m\u001b[39m.\u001b[39m_maybe_define_function(args, kwargs)\n\u001b[1;32m-> 2496\u001b[0m \u001b[39mreturn\u001b[39;00m graph_function\u001b[39m.\u001b[39;49m_call_flat(\n\u001b[0;32m   2497\u001b[0m     filtered_flat_args, captured_inputs\u001b[39m=\u001b[39;49mgraph_function\u001b[39m.\u001b[39;49mcaptured_inputs)\n",
      "File \u001b[1;32m~\\Anaconda3\\envs\\NLP\\lib\\site-packages\\tensorflow\\python\\eager\\function.py:1862\u001b[0m, in \u001b[0;36mConcreteFunction._call_flat\u001b[1;34m(self, args, captured_inputs, cancellation_manager)\u001b[0m\n\u001b[0;32m   1858\u001b[0m possible_gradient_type \u001b[39m=\u001b[39m gradients_util\u001b[39m.\u001b[39mPossibleTapeGradientTypes(args)\n\u001b[0;32m   1859\u001b[0m \u001b[39mif\u001b[39;00m (possible_gradient_type \u001b[39m==\u001b[39m gradients_util\u001b[39m.\u001b[39mPOSSIBLE_GRADIENT_TYPES_NONE\n\u001b[0;32m   1860\u001b[0m     \u001b[39mand\u001b[39;00m executing_eagerly):\n\u001b[0;32m   1861\u001b[0m   \u001b[39m# No tape is watching; skip to running the function.\u001b[39;00m\n\u001b[1;32m-> 1862\u001b[0m   \u001b[39mreturn\u001b[39;00m \u001b[39mself\u001b[39m\u001b[39m.\u001b[39m_build_call_outputs(\u001b[39mself\u001b[39;49m\u001b[39m.\u001b[39;49m_inference_function\u001b[39m.\u001b[39;49mcall(\n\u001b[0;32m   1863\u001b[0m       ctx, args, cancellation_manager\u001b[39m=\u001b[39;49mcancellation_manager))\n\u001b[0;32m   1864\u001b[0m forward_backward \u001b[39m=\u001b[39m \u001b[39mself\u001b[39m\u001b[39m.\u001b[39m_select_forward_and_backward_functions(\n\u001b[0;32m   1865\u001b[0m     args,\n\u001b[0;32m   1866\u001b[0m     possible_gradient_type,\n\u001b[0;32m   1867\u001b[0m     executing_eagerly)\n\u001b[0;32m   1868\u001b[0m forward_function, args_with_tangents \u001b[39m=\u001b[39m forward_backward\u001b[39m.\u001b[39mforward()\n",
      "File \u001b[1;32m~\\Anaconda3\\envs\\NLP\\lib\\site-packages\\tensorflow\\python\\eager\\function.py:499\u001b[0m, in \u001b[0;36m_EagerDefinedFunction.call\u001b[1;34m(self, ctx, args, cancellation_manager)\u001b[0m\n\u001b[0;32m    497\u001b[0m \u001b[39mwith\u001b[39;00m _InterpolateFunctionError(\u001b[39mself\u001b[39m):\n\u001b[0;32m    498\u001b[0m   \u001b[39mif\u001b[39;00m cancellation_manager \u001b[39mis\u001b[39;00m \u001b[39mNone\u001b[39;00m:\n\u001b[1;32m--> 499\u001b[0m     outputs \u001b[39m=\u001b[39m execute\u001b[39m.\u001b[39;49mexecute(\n\u001b[0;32m    500\u001b[0m         \u001b[39mstr\u001b[39;49m(\u001b[39mself\u001b[39;49m\u001b[39m.\u001b[39;49msignature\u001b[39m.\u001b[39;49mname),\n\u001b[0;32m    501\u001b[0m         num_outputs\u001b[39m=\u001b[39;49m\u001b[39mself\u001b[39;49m\u001b[39m.\u001b[39;49m_num_outputs,\n\u001b[0;32m    502\u001b[0m         inputs\u001b[39m=\u001b[39;49margs,\n\u001b[0;32m    503\u001b[0m         attrs\u001b[39m=\u001b[39;49mattrs,\n\u001b[0;32m    504\u001b[0m         ctx\u001b[39m=\u001b[39;49mctx)\n\u001b[0;32m    505\u001b[0m   \u001b[39melse\u001b[39;00m:\n\u001b[0;32m    506\u001b[0m     outputs \u001b[39m=\u001b[39m execute\u001b[39m.\u001b[39mexecute_with_cancellation(\n\u001b[0;32m    507\u001b[0m         \u001b[39mstr\u001b[39m(\u001b[39mself\u001b[39m\u001b[39m.\u001b[39msignature\u001b[39m.\u001b[39mname),\n\u001b[0;32m    508\u001b[0m         num_outputs\u001b[39m=\u001b[39m\u001b[39mself\u001b[39m\u001b[39m.\u001b[39m_num_outputs,\n\u001b[1;32m   (...)\u001b[0m\n\u001b[0;32m    511\u001b[0m         ctx\u001b[39m=\u001b[39mctx,\n\u001b[0;32m    512\u001b[0m         cancellation_manager\u001b[39m=\u001b[39mcancellation_manager)\n",
      "File \u001b[1;32m~\\Anaconda3\\envs\\NLP\\lib\\site-packages\\tensorflow\\python\\eager\\execute.py:54\u001b[0m, in \u001b[0;36mquick_execute\u001b[1;34m(op_name, num_outputs, inputs, attrs, ctx, name)\u001b[0m\n\u001b[0;32m     52\u001b[0m \u001b[39mtry\u001b[39;00m:\n\u001b[0;32m     53\u001b[0m   ctx\u001b[39m.\u001b[39mensure_initialized()\n\u001b[1;32m---> 54\u001b[0m   tensors \u001b[39m=\u001b[39m pywrap_tfe\u001b[39m.\u001b[39;49mTFE_Py_Execute(ctx\u001b[39m.\u001b[39;49m_handle, device_name, op_name,\n\u001b[0;32m     55\u001b[0m                                       inputs, attrs, num_outputs)\n\u001b[0;32m     56\u001b[0m \u001b[39mexcept\u001b[39;00m core\u001b[39m.\u001b[39m_NotOkStatusException \u001b[39mas\u001b[39;00m e:\n\u001b[0;32m     57\u001b[0m   \u001b[39mif\u001b[39;00m name \u001b[39mis\u001b[39;00m \u001b[39mnot\u001b[39;00m \u001b[39mNone\u001b[39;00m:\n",
      "\u001b[1;31mKeyboardInterrupt\u001b[0m: "
     ]
    }
   ],
   "source": [
    "validation_data=valid_df['cleaned_text'],valid_df[['is_negative', 'is_positive','is_neutral']]\n",
    "epochs=3\n",
    "batch_size=32\n",
    "model.fit(train_df['cleaned_text'],train_df[['is_negative', 'is_positive','is_neutral']],validation_data=validation_data,epochs=epochs,batch_size=batch_size)"
   ]
  },
  {
   "cell_type": "code",
   "execution_count": null,
   "id": "cb217b9e",
   "metadata": {},
   "outputs": [],
   "source": []
  }
 ],
 "metadata": {
  "kernelspec": {
   "display_name": "Python 3 (ipykernel)",
   "language": "python",
   "name": "python3"
  },
  "language_info": {
   "codemirror_mode": {
    "name": "ipython",
    "version": 3
   },
   "file_extension": ".py",
   "mimetype": "text/x-python",
   "name": "python",
   "nbconvert_exporter": "python",
   "pygments_lexer": "ipython3",
   "version": "3.9.16"
  }
 },
 "nbformat": 4,
 "nbformat_minor": 5
}
